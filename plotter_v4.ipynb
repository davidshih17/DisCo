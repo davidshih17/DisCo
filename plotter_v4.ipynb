{
 "cells": [
  {
   "cell_type": "code",
   "execution_count": 2,
   "metadata": {},
   "outputs": [],
   "source": [
    "from __future__ import print_function, division\n",
    "\n",
    "import json\n",
    "import matplotlib.pyplot as plt\n",
    "import numpy as np"
   ]
  },
  {
   "cell_type": "code",
   "execution_count": 3,
   "metadata": {},
   "outputs": [],
   "source": [
    "# Read in ATLAS decorrelation methods: tau21+DDT, D2+kNN, and uBoost\n",
    "outputdict=json.load(open('ATLAS_output_v2.json'))"
   ]
  },
  {
   "cell_type": "code",
   "execution_count": 4,
   "metadata": {},
   "outputs": [
    {
     "data": {
      "text/plain": [
       "[[100, 18.992649597947807, 4.119768221981722],\n",
       " [100, 17.1717847505631, 8.860618004700875],\n",
       " [100, 11.318868701123066, 75.71318237399306],\n",
       " [100, 7.459216491649553, 300.5450323845898],\n",
       " [100, 4.726246010311809, 315.81620782148786],\n",
       " [100, 3.620105218123093, 231.99910292713525],\n",
       " [100, 3.2391729592158676, 640.3594938875135],\n",
       " [100, 3.5410602026222238, 179.08802260765006]]"
      ]
     },
     "execution_count": 4,
     "metadata": {},
     "output_type": "execute_result"
    }
   ],
   "source": [
    "outputdict['uBoost']"
   ]
  },
  {
   "cell_type": "code",
   "execution_count": 71,
   "metadata": {},
   "outputs": [],
   "source": [
    "import ast\n",
    "uBoost_new=[]\n",
    "with open('uBoost.out','r') as f:\n",
    "    for line in f:\n",
    "        line2=ast.literal_eval(line)\n",
    "        uBoost_new.append(line2)\n",
    "uBoost_new=np.array(uBoost_new)"
   ]
  },
  {
   "cell_type": "code",
   "execution_count": 88,
   "metadata": {},
   "outputs": [
    {
     "data": {
      "text/plain": [
       "[0.0, 0.01, 0.1, 0.3, 1.0, 3.0, 5.0, 10.0, 50.0, 100.0]"
      ]
     },
     "execution_count": 88,
     "metadata": {},
     "output_type": "execute_result"
    }
   ],
   "source": [
    "list(np.unique(uBoost_new[:,1]))"
   ]
  },
  {
   "cell_type": "code",
   "execution_count": 100,
   "metadata": {},
   "outputs": [
    {
     "data": {
      "image/png": "[encoded data removed]",
      "text/plain": [
       "<Figure size 432x288 with 1 Axes>"
      ]
     },
     "metadata": {
      "needs_background": "light"
     },
     "output_type": "display_data"
    }
   ],
   "source": [
    "plt.scatter(uBoost_new[(uBoost_new[:,1]<5) & (uBoost_new[:,0]==300)][:,2],\\\n",
    "            uBoost_new[(uBoost_new[:,1]<5) & (uBoost_new[:,0]==300)][:,3])\n",
    "plt.yscale('log')\n"
   ]
  },
  {
   "cell_type": "code",
   "execution_count": 91,
   "metadata": {},
   "outputs": [
    {
     "data": {
      "text/plain": [
       "<matplotlib.legend.Legend at 0x7ff8394bb2e8>"
      ]
     },
     "execution_count": 91,
     "metadata": {},
     "output_type": "execute_result"
    },
    {
     "data": {
      "image/png": "[encoded data removed]",
      "text/plain": [
       "<Figure size 432x288 with 1 Axes>"
      ]
     },
     "metadata": {
      "needs_background": "light"
     },
     "output_type": "display_data"
    }
   ],
   "source": [
    "plt.scatter(uBoost_new[uBoost_new[:,1]<5][:,2],uBoost_new[uBoost_new[:,1]<5][:,3],s=5,label='new')\n",
    "plt.scatter(np.array(outputdict['uBoost'])[:,1],np.array(outputdict['uBoost'])[:,2],label='old')\n",
    "plt.yscale('log')\n",
    "plt.legend()"
   ]
  },
  {
   "cell_type": "code",
   "execution_count": 16,
   "metadata": {},
   "outputs": [
    {
     "name": "stdout",
     "output_type": "stream",
     "text": [
      "['plane_Wjets_DNN_dist_v3/evaluation/loglog2', 'plane_Wjets_DNN_dist_v3/evaluation/loglog3', 'plane_Wjets_DNN_dist_v3/evaluation/loglog4', 'plane_Wjets_DNN_dist_v3/evaluation/loglog1']\n"
     ]
    }
   ],
   "source": [
    "import glob,csv,ast\n",
    "state_dist={}\n",
    "files=glob.glob('plane_Wjets_DNN_dist_v3/evaluation/loglog*')\n",
    "print(files)\n",
    "vallist=[]\n",
    "testlist=[]\n",
    "for file in files:\n",
    "    with open(file,'r') as f:\n",
    "        for line in f:\n",
    "            line=line.split(' ')\n",
    "            if(line[0]=='val'):\n",
    "                vallist.append(line[2:])\n",
    "            elif(line[0]=='test'):\n",
    "                testlist.append(line[2:])\n",
    "vallist=np.array(vallist).astype('float')\n",
    "testlist=np.array(testlist).astype('float')"
   ]
  },
  {
   "cell_type": "code",
   "execution_count": 5,
   "metadata": {},
   "outputs": [
    {
     "name": "stdout",
     "output_type": "stream",
     "text": [
      "['results/Wjets_DNN_dist_v4/evaluation/loglog_eval_20_1', 'results/Wjets_DNN_dist_v4/evaluation/loglog_eval_140_1', 'results/Wjets_DNN_dist_v4/evaluation/loglog_eval_300_1', 'results/Wjets_DNN_dist_v4/evaluation/loglog_eval_70_1', 'results/Wjets_DNN_dist_v4/evaluation/loglog_eval_600_1', 'results/Wjets_DNN_dist_v4/evaluation/loglog_eval_60_1', 'results/Wjets_DNN_dist_v4/evaluation/loglog_eval_500_1', 'results/Wjets_DNN_dist_v4/evaluation/loglog_eval_40_1', 'results/Wjets_DNN_dist_v4/evaluation/loglog_eval_180_1', 'results/Wjets_DNN_dist_v4/evaluation/loglog_eval_10_1', 'results/Wjets_DNN_dist_v4/evaluation/loglog_eval_220_1', 'results/Wjets_DNN_dist_v4/evaluation/loglog_eval_100_1', 'results/Wjets_DNN_dist_v4/evaluation/loglog_eval_90_1', 'results/Wjets_DNN_dist_v4/evaluation/loglog_eval_30_1', 'results/Wjets_DNN_dist_v4/evaluation/loglog_eval_400_1', 'results/Wjets_DNN_dist_v4/evaluation/loglog_eval_50_1', 'results/Wjets_DNN_dist_v4/evaluation/loglog_eval_80_1', 'results/Wjets_DNN_dist_v4/evaluation/loglog_eval_260_1']\n",
      "['results/Wjets_DNN_dist_v4/evaluation/loglog_eval_180_2', 'results/Wjets_DNN_dist_v4/evaluation/loglog_eval_220_2', 'results/Wjets_DNN_dist_v4/evaluation/loglog_eval_60_2', 'results/Wjets_DNN_dist_v4/evaluation/loglog_eval_260_2', 'results/Wjets_DNN_dist_v4/evaluation/loglog_eval_10_2', 'results/Wjets_DNN_dist_v4/evaluation/loglog_eval_30_2', 'results/Wjets_DNN_dist_v4/evaluation/loglog_eval_70_2', 'results/Wjets_DNN_dist_v4/evaluation/loglog_eval_50_2', 'results/Wjets_DNN_dist_v4/evaluation/loglog_eval_90_2', 'results/Wjets_DNN_dist_v4/evaluation/loglog_eval_100_2', 'results/Wjets_DNN_dist_v4/evaluation/loglog_eval_20_2', 'results/Wjets_DNN_dist_v4/evaluation/loglog_eval_500_2', 'results/Wjets_DNN_dist_v4/evaluation/loglog_eval_80_2', 'results/Wjets_DNN_dist_v4/evaluation/loglog_eval_600_2', 'results/Wjets_DNN_dist_v4/evaluation/loglog_eval_400_2', 'results/Wjets_DNN_dist_v4/evaluation/loglog_eval_300_2', 'results/Wjets_DNN_dist_v4/evaluation/loglog_eval_140_2', 'results/Wjets_DNN_dist_v4/evaluation/loglog_eval_40_2']\n",
      "['results/Wjets_DNN_dist_v4/evaluation/loglog_eval_220_3', 'results/Wjets_DNN_dist_v4/evaluation/loglog_eval_90_3', 'results/Wjets_DNN_dist_v4/evaluation/loglog_eval_100_3', 'results/Wjets_DNN_dist_v4/evaluation/loglog_eval_400_3', 'results/Wjets_DNN_dist_v4/evaluation/loglog_eval_300_3', 'results/Wjets_DNN_dist_v4/evaluation/loglog_eval_260_3', 'results/Wjets_DNN_dist_v4/evaluation/loglog_eval_30_3', 'results/Wjets_DNN_dist_v4/evaluation/loglog_eval_180_3', 'results/Wjets_DNN_dist_v4/evaluation/loglog_eval_500_3', 'results/Wjets_DNN_dist_v4/evaluation/loglog_eval_600_3', 'results/Wjets_DNN_dist_v4/evaluation/loglog_eval_70_3', 'results/Wjets_DNN_dist_v4/evaluation/loglog_eval_60_3', 'results/Wjets_DNN_dist_v4/evaluation/loglog_eval_20_3', 'results/Wjets_DNN_dist_v4/evaluation/loglog_eval_10_3', 'results/Wjets_DNN_dist_v4/evaluation/loglog_eval_50_3', 'results/Wjets_DNN_dist_v4/evaluation/loglog_eval_140_3', 'results/Wjets_DNN_dist_v4/evaluation/loglog_eval_80_3', 'results/Wjets_DNN_dist_v4/evaluation/loglog_eval_40_3']\n",
      "['results/Wjets_DNN_dist_v4/evaluation/loglog_eval_600_4', 'results/Wjets_DNN_dist_v4/evaluation/loglog_eval_260_4', 'results/Wjets_DNN_dist_v4/evaluation/loglog_eval_60_4', 'results/Wjets_DNN_dist_v4/evaluation/loglog_eval_140_4', 'results/Wjets_DNN_dist_v4/evaluation/loglog_eval_30_4', 'results/Wjets_DNN_dist_v4/evaluation/loglog_eval_20_4', 'results/Wjets_DNN_dist_v4/evaluation/loglog_eval_10_4', 'results/Wjets_DNN_dist_v4/evaluation/loglog_eval_90_4', 'results/Wjets_DNN_dist_v4/evaluation/loglog_eval_80_4', 'results/Wjets_DNN_dist_v4/evaluation/loglog_eval_70_4', 'results/Wjets_DNN_dist_v4/evaluation/loglog_eval_180_4', 'results/Wjets_DNN_dist_v4/evaluation/loglog_eval_40_4', 'results/Wjets_DNN_dist_v4/evaluation/loglog_eval_500_4', 'results/Wjets_DNN_dist_v4/evaluation/loglog_eval_50_4', 'results/Wjets_DNN_dist_v4/evaluation/loglog_eval_220_4', 'results/Wjets_DNN_dist_v4/evaluation/loglog_eval_400_4', 'results/Wjets_DNN_dist_v4/evaluation/loglog_eval_300_4', 'results/Wjets_DNN_dist_v4/evaluation/loglog_eval_100_4']\n",
      "['results/Wjets_DNN_dist_v4/evaluation/loglog_eval_10_5', 'results/Wjets_DNN_dist_v4/evaluation/loglog_eval_260_5', 'results/Wjets_DNN_dist_v4/evaluation/loglog_eval_600_5', 'results/Wjets_DNN_dist_v4/evaluation/loglog_eval_50_5', 'results/Wjets_DNN_dist_v4/evaluation/loglog_eval_100_5', 'results/Wjets_DNN_dist_v4/evaluation/loglog_eval_180_5', 'results/Wjets_DNN_dist_v4/evaluation/loglog_eval_40_5', 'results/Wjets_DNN_dist_v4/evaluation/loglog_eval_300_5', 'results/Wjets_DNN_dist_v4/evaluation/loglog_eval_70_5', 'results/Wjets_DNN_dist_v4/evaluation/loglog_eval_500_5', 'results/Wjets_DNN_dist_v4/evaluation/loglog_eval_30_5', 'results/Wjets_DNN_dist_v4/evaluation/loglog_eval_20_5', 'results/Wjets_DNN_dist_v4/evaluation/loglog_eval_90_5', 'results/Wjets_DNN_dist_v4/evaluation/loglog_eval_220_5', 'results/Wjets_DNN_dist_v4/evaluation/loglog_eval_60_5', 'results/Wjets_DNN_dist_v4/evaluation/loglog_eval_400_5', 'results/Wjets_DNN_dist_v4/evaluation/loglog_eval_80_5', 'results/Wjets_DNN_dist_v4/evaluation/loglog_eval_140_5']\n",
      "['results/Wjets_DNN_dist_v4/evaluation/loglog_eval_20_6', 'results/Wjets_DNN_dist_v4/evaluation/loglog_eval_500_6', 'results/Wjets_DNN_dist_v4/evaluation/loglog_eval_70_6', 'results/Wjets_DNN_dist_v4/evaluation/loglog_eval_80_6', 'results/Wjets_DNN_dist_v4/evaluation/loglog_eval_60_6', 'results/Wjets_DNN_dist_v4/evaluation/loglog_eval_100_6', 'results/Wjets_DNN_dist_v4/evaluation/loglog_eval_400_6', 'results/Wjets_DNN_dist_v4/evaluation/loglog_eval_220_6', 'results/Wjets_DNN_dist_v4/evaluation/loglog_eval_40_6', 'results/Wjets_DNN_dist_v4/evaluation/loglog_eval_300_6', 'results/Wjets_DNN_dist_v4/evaluation/loglog_eval_600_6', 'results/Wjets_DNN_dist_v4/evaluation/loglog_eval_140_6', 'results/Wjets_DNN_dist_v4/evaluation/loglog_eval_260_6', 'results/Wjets_DNN_dist_v4/evaluation/loglog_eval_90_6', 'results/Wjets_DNN_dist_v4/evaluation/loglog_eval_30_6', 'results/Wjets_DNN_dist_v4/evaluation/loglog_eval_10_6', 'results/Wjets_DNN_dist_v4/evaluation/loglog_eval_180_6', 'results/Wjets_DNN_dist_v4/evaluation/loglog_eval_50_6']\n"
     ]
    }
   ],
   "source": [
    "import glob,csv,ast\n",
    "vallist6={}\n",
    "testlist6={}\n",
    "for i in range(1,7):\n",
    "    files=glob.glob('results/Wjets_DNN_dist_v4/evaluation/loglog*_'+str(i))\n",
    "    print(files)\n",
    "    vallist6[i]=[]\n",
    "    testlist6[i]=[]\n",
    "    for file in files:\n",
    "        with open(file,'r') as f:\n",
    "            for line in f:\n",
    "                line=line.split(' ')\n",
    "                if(line[0]=='val'):\n",
    "                    vallist6[i].append(line[2:])\n",
    "                elif(line[0]=='test'):\n",
    "                    testlist6[i].append(line[2:])\n",
    "    vallist6[i]=np.array(vallist6[i]).astype('float')\n",
    "    testlist6[i]=np.array(testlist6[i]).astype('float')"
   ]
  },
  {
   "cell_type": "code",
   "execution_count": 10,
   "metadata": {},
   "outputs": [],
   "source": [
    "discoparlist=np.unique(vallist6[1][:,1])"
   ]
  },
  {
   "cell_type": "code",
   "execution_count": 11,
   "metadata": {},
   "outputs": [
    {
     "data": {
      "text/plain": [
       "array([ 10.,  20.,  30.,  40.,  50.,  60.,  70.,  80.,  90., 100., 140.,\n",
       "       180., 220., 260., 300., 400., 500., 600.])"
      ]
     },
     "execution_count": 11,
     "metadata": {},
     "output_type": "execute_result"
    }
   ],
   "source": [
    "discoparlist"
   ]
  },
  {
   "cell_type": "code",
   "execution_count": 14,
   "metadata": {},
   "outputs": [
    {
     "name": "stdout",
     "output_type": "stream",
     "text": [
      "10.0\n",
      "20.0\n",
      "30.0\n",
      "30.0 3\n",
      "40.0\n",
      "50.0\n",
      "60.0\n",
      "70.0\n",
      "70.0 3\n",
      "80.0\n",
      "90.0\n",
      "100.0\n",
      "140.0\n",
      "180.0\n",
      "220.0\n",
      "260.0\n",
      "300.0\n",
      "300.0 6\n",
      "400.0\n",
      "400.0 2\n",
      "400.0 6\n",
      "500.0\n",
      "500.0 1\n",
      "600.0\n"
     ]
    }
   ],
   "source": [
    "valloss_use6={}\n",
    "valloss_use6_smoothed={}\n",
    "toplottry6={}\n",
    "for i in range(1,7):\n",
    "    for par in discoparlist:\n",
    "        valloss_s=vallist6[i][vallist6[i][:,1]==par][:,3]\n",
    "        valloss_b=vallist6[i][vallist6[i][:,1]==par][:,4]\n",
    "        valloss_d=vallist6[i][vallist6[i][:,1]==par][:,5]\n",
    "        valloss_use6[i,par]=valloss_s+valloss_b+valloss_d\n",
    "\n",
    "stdlist={}\n",
    "meanlist={}\n",
    "cutlist={}\n",
    "for par in discoparlist:\n",
    "    print(par)\n",
    "    minlisttest=[np.min(valloss_use6[i,par]) for i in range(1,7)]\n",
    "    stdlist[par]=np.array([np.std(np.sort(minlisttest)[:i]) for i in range(2,len(minlisttest)+1)])\n",
    "    meanlist[par]=np.array([np.mean(np.sort(minlisttest)[:i]) for i in range(2,len(minlisttest)+1)])\n",
    "    threshold=10*stdlist[par][2]+meanlist[par][2]\n",
    "    for i in range(1,7):\n",
    "        if np.min(valloss_use6[i,par])>threshold:\n",
    "            print(par,i)\n",
    "            cutlist[i,par]=True\n",
    "        else:\n",
    "            cutlist[i,par]=False        \n",
    "        \n",
    "        \n",
    "        \n",
    "#        if len(valloss_use6[i,par])>10:\n",
    "#            valloss_use6_smoothed[i,par]=np.convolve(valloss_use6[i,par], np.ones((5,))/5, mode='valid')\n",
    "        \n",
    "#    toplottry6[i]=np.array([[i,par,2+np.argmin(valloss_use6_smoothed[i,par])\\\n",
    "#        ,testlist6[i][testlist6[i][:,1]==par][2+np.argmin(valloss_use6_smoothed[i,par]),-2]\\\n",
    "#        ,testlist6[i][testlist6[i][:,1]==par][2+np.argmin(valloss_use6_smoothed[i,par]),-1]]\n",
    "\n",
    "\n",
    "for i in range(1,7):\n",
    "    toplottry6[i]=np.array([[i,par,np.argmin(valloss_use6[i,par])\\\n",
    "        ,testlist6[i][testlist6[i][:,1]==par][np.argmin(valloss_use6[i,par]),-2]\\\n",
    "        ,testlist6[i][testlist6[i][:,1]==par][np.argmin(valloss_use6[i,par]),-1]]\n",
    "     for par in discoparlist if (len(valloss_use6[i,par])>10 and cutlist[i,par]==False)])\n"
   ]
  },
  {
   "cell_type": "code",
   "execution_count": 17,
   "metadata": {},
   "outputs": [],
   "source": [
    "toplottry6_all=np.concatenate((toplottry6[1],toplottry6[2],toplottry6[3],\n",
    "                               toplottry6[4],toplottry6[5],toplottry6[6]))\n",
    "toplottry6_all=np.concatenate((toplottry6_all[:,1:],testlist[testlist[:,0]==0][-1][[0,1,-2,-1]].reshape((1,-1)),\n",
    "                              1.01*testlist[testlist[:,0]==0][-1][[0,1,-2,-1]].reshape((1,-1))            \n",
    "                              ))"
   ]
  },
  {
   "cell_type": "code",
   "execution_count": 19,
   "metadata": {},
   "outputs": [],
   "source": [
    "# Source for how I draw envelope around scatter plot points:\n",
    "# http://blog.thehumangeo.com/2014/05/12/drawing-boundaries-in-python/\n",
    "\n",
    "import shapely.geometry as geometry\n",
    "from descartes import PolygonPatch\n",
    "from shapely.ops import cascaded_union, polygonize\n",
    "from scipy.spatial import Delaunay\n",
    "import numpy as np\n",
    "import math\n",
    "\n",
    "def plot_polygon(polygon):\n",
    "    fig = plt.figure(figsize=(10,10))\n",
    "    ax = fig.add_subplot(111)\n",
    "    margin = .3\n",
    "    x_min, y_min, x_max, y_max = polygon.bounds\n",
    "    ax.set_xlim([x_min-margin, x_max+margin])\n",
    "    ax.set_ylim([y_min-margin, y_max+margin])\n",
    "    patch = PolygonPatch(polygon, fc='#999999',\n",
    "                         ec='#000000', fill=True,\n",
    "                         zorder=-1)\n",
    "    ax.add_patch(patch)\n",
    "    return fig\n",
    "\n",
    "def alpha_shape_logy(points, alpha):\n",
    "    \"\"\"\n",
    "    Compute the alpha shape (concave hull) of a set\n",
    "    of points.\n",
    "    @param points: Iterable container of points.\n",
    "    @param alpha: alpha value to influence the\n",
    "        gooeyness of the border. Smaller numbers\n",
    "        don't fall inward as much as larger numbers.\n",
    "        Too large, and you lose everything!\n",
    "    \"\"\"\n",
    "    if len(points) < 4:\n",
    "        # When you have a triangle, there is no sense\n",
    "        # in computing an alpha shape.\n",
    "        return geometry.MultiPoint(list(points)).convex_hull\n",
    "    def add_edge(edges, edge_points, coords, i, j):\n",
    "        \"\"\"\n",
    "        Add a line between the i-th and j-th points,\n",
    "        if not in the list already\n",
    "        \"\"\"\n",
    "        if (i, j) in edges or (j, i) in edges:\n",
    "                # already added\n",
    "            return\n",
    "        edges.add( (i, j) )\n",
    "        edge_points.append(coords[ [i, j] ])\n",
    "    coords = np.dstack((points[:,0],np.log(points[:,1])))[0]\n",
    "    tri = Delaunay(coords)\n",
    "    edges = set()\n",
    "    edge_points = []\n",
    "    # loop over triangles:\n",
    "    # ia, ib, ic = indices of corner points of the\n",
    "    # triangle\n",
    "    for ia, ib, ic in tri.vertices:\n",
    "        pa = coords[ia]\n",
    "        pb = coords[ib]\n",
    "        pc = coords[ic]\n",
    "        # Lengths of sides of triangle\n",
    "        a = math.sqrt((pa[0]-pb[0])**2 + (pa[1]-pb[1])**2)\n",
    "        b = math.sqrt((pb[0]-pc[0])**2 + (pb[1]-pc[1])**2)\n",
    "        c = math.sqrt((pc[0]-pa[0])**2 + (pc[1]-pa[1])**2)\n",
    "        # Semiperimeter of triangle\n",
    "        s = (a + b + c)/2.0\n",
    "        # Area of triangle by Heron's formula\n",
    "        area = math.sqrt(s*(s-a)*(s-b)*(s-c))\n",
    "        circum_r = a*b*c/(4.0*area)\n",
    "        # Here's the radius filter.\n",
    "        #print circum_r\n",
    "        if circum_r < 1.0/alpha:\n",
    "            add_edge(edges, edge_points, points, ia, ib)\n",
    "            add_edge(edges, edge_points, points, ib, ic)\n",
    "            add_edge(edges, edge_points, points, ic, ia)\n",
    "    m = geometry.MultiLineString(edge_points)\n",
    "    triangles = list(polygonize(m))\n",
    "    return cascaded_union(triangles), edge_points\n"
   ]
  },
  {
   "cell_type": "code",
   "execution_count": 22,
   "metadata": {},
   "outputs": [],
   "source": [
    "points=toplottry6_all[:,[-2,-1]]\n",
    "points=points[points[:,0]>3] # cut out left most point as that creates a misleadingly sharp looking uncertainty region at low R50\n",
    "\n"
   ]
  },
  {
   "cell_type": "code",
   "execution_count": 23,
   "metadata": {},
   "outputs": [
    {
     "name": "stdout",
     "output_type": "stream",
     "text": [
      "['plane_Wjets_CNN_dist_v3/evaluation/loglog2', 'plane_Wjets_CNN_dist_v3/evaluation/loglog3', 'plane_Wjets_CNN_dist_v3/evaluation/loglog1']\n"
     ]
    }
   ],
   "source": [
    "import glob,csv,ast\n",
    "state_dist={}\n",
    "#files=glob.glob('plane_Wjets_CNN_dist_v2/evaluation/loglog*')\n",
    "files=glob.glob('plane_Wjets_CNN_dist_v3/evaluation/loglog*')\n",
    "print(files)\n",
    "vallist_CNN=[]\n",
    "testlist_CNN=[]\n",
    "for file in files:\n",
    "    with open(file,'r') as f:\n",
    "        for line in f:\n",
    "            line=line.split(' ')\n",
    "            if(line[0]=='val'):\n",
    "                vallist_CNN.append(line[2:])\n",
    "            elif(line[0]=='test'):\n",
    "                testlist_CNN.append(line[2:])\n",
    "vallist_CNN=np.array(vallist_CNN).astype('float')\n",
    "testlist_CNN=np.array(testlist_CNN).astype('float')"
   ]
  },
  {
   "cell_type": "code",
   "execution_count": 24,
   "metadata": {},
   "outputs": [
    {
     "name": "stdout",
     "output_type": "stream",
     "text": [
      "['results/Wjets_CNN_dist_v4/evaluation/loglog_eval_150_1', 'results/Wjets_CNN_dist_v4/evaluation/loglog_eval_18_1', 'results/Wjets_CNN_dist_v4/evaluation/loglog_eval_38_1', 'results/Wjets_CNN_dist_v4/evaluation/loglog_eval_46_1', 'results/Wjets_CNN_dist_v4/evaluation/loglog_eval_100_1', 'results/Wjets_CNN_dist_v4/evaluation/loglog_eval_34_1', 'results/Wjets_CNN_dist_v4/evaluation/loglog_eval_30_1', 'results/Wjets_CNN_dist_v4/evaluation/loglog_eval_42_1', 'results/Wjets_CNN_dist_v4/evaluation/loglog_eval_250_1', 'results/Wjets_CNN_dist_v4/evaluation/loglog_eval_200_1', 'results/Wjets_CNN_dist_v4/evaluation/loglog_eval_50_1', 'results/Wjets_CNN_dist_v4/evaluation/loglog_eval_6_1', 'results/Wjets_CNN_dist_v4/evaluation/loglog_eval_24_1', 'results/Wjets_CNN_dist_v4/evaluation/loglog_eval_12_1']\n",
      "['results/Wjets_CNN_dist_v4/evaluation/loglog_eval_46_2', 'results/Wjets_CNN_dist_v4/evaluation/loglog_eval_42_2', 'results/Wjets_CNN_dist_v4/evaluation/loglog_eval_24_2', 'results/Wjets_CNN_dist_v4/evaluation/loglog_eval_34_2', 'results/Wjets_CNN_dist_v4/evaluation/loglog_eval_200_2', 'results/Wjets_CNN_dist_v4/evaluation/loglog_eval_6_2', 'results/Wjets_CNN_dist_v4/evaluation/loglog_eval_30_2', 'results/Wjets_CNN_dist_v4/evaluation/loglog_eval_50_2', 'results/Wjets_CNN_dist_v4/evaluation/loglog_eval_12_2', 'results/Wjets_CNN_dist_v4/evaluation/loglog_eval_18_2', 'results/Wjets_CNN_dist_v4/evaluation/loglog_eval_100_2', 'results/Wjets_CNN_dist_v4/evaluation/loglog_eval_250_2', 'results/Wjets_CNN_dist_v4/evaluation/loglog_eval_38_2', 'results/Wjets_CNN_dist_v4/evaluation/loglog_eval_150_2']\n",
      "['results/Wjets_CNN_dist_v4/evaluation/loglog_eval_100_3', 'results/Wjets_CNN_dist_v4/evaluation/loglog_eval_150_3', 'results/Wjets_CNN_dist_v4/evaluation/loglog_eval_30_3', 'results/Wjets_CNN_dist_v4/evaluation/loglog_eval_34_3', 'results/Wjets_CNN_dist_v4/evaluation/loglog_eval_24_3', 'results/Wjets_CNN_dist_v4/evaluation/loglog_eval_46_3', 'results/Wjets_CNN_dist_v4/evaluation/loglog_eval_18_3', 'results/Wjets_CNN_dist_v4/evaluation/loglog_eval_38_3', 'results/Wjets_CNN_dist_v4/evaluation/loglog_eval_12_3', 'results/Wjets_CNN_dist_v4/evaluation/loglog_eval_200_3', 'results/Wjets_CNN_dist_v4/evaluation/loglog_eval_50_3', 'results/Wjets_CNN_dist_v4/evaluation/loglog_eval_6_3', 'results/Wjets_CNN_dist_v4/evaluation/loglog_eval_42_3', 'results/Wjets_CNN_dist_v4/evaluation/loglog_eval_250_3']\n",
      "['results/Wjets_CNN_dist_v4/evaluation/loglog_eval_150_4', 'results/Wjets_CNN_dist_v4/evaluation/loglog_eval_30_4', 'results/Wjets_CNN_dist_v4/evaluation/loglog_eval_24_4', 'results/Wjets_CNN_dist_v4/evaluation/loglog_eval_42_4', 'results/Wjets_CNN_dist_v4/evaluation/loglog_eval_34_4', 'results/Wjets_CNN_dist_v4/evaluation/loglog_eval_46_4', 'results/Wjets_CNN_dist_v4/evaluation/loglog_eval_18_4', 'results/Wjets_CNN_dist_v4/evaluation/loglog_eval_6_4', 'results/Wjets_CNN_dist_v4/evaluation/loglog_eval_12_4', 'results/Wjets_CNN_dist_v4/evaluation/loglog_eval_38_4', 'results/Wjets_CNN_dist_v4/evaluation/loglog_eval_50_4', 'results/Wjets_CNN_dist_v4/evaluation/loglog_eval_250_4', 'results/Wjets_CNN_dist_v4/evaluation/loglog_eval_200_4', 'results/Wjets_CNN_dist_v4/evaluation/loglog_eval_100_4']\n",
      "['results/Wjets_CNN_dist_v4/evaluation/loglog_eval_150_5', 'results/Wjets_CNN_dist_v4/evaluation/loglog_eval_42_5', 'results/Wjets_CNN_dist_v4/evaluation/loglog_eval_250_5', 'results/Wjets_CNN_dist_v4/evaluation/loglog_eval_38_5', 'results/Wjets_CNN_dist_v4/evaluation/loglog_eval_50_5', 'results/Wjets_CNN_dist_v4/evaluation/loglog_eval_100_5', 'results/Wjets_CNN_dist_v4/evaluation/loglog_eval_46_5', 'results/Wjets_CNN_dist_v4/evaluation/loglog_eval_6_5', 'results/Wjets_CNN_dist_v4/evaluation/loglog_eval_30_5', 'results/Wjets_CNN_dist_v4/evaluation/loglog_eval_200_5', 'results/Wjets_CNN_dist_v4/evaluation/loglog_eval_12_5', 'results/Wjets_CNN_dist_v4/evaluation/loglog_eval_24_5', 'results/Wjets_CNN_dist_v4/evaluation/loglog_eval_34_5', 'results/Wjets_CNN_dist_v4/evaluation/loglog_eval_18_5']\n",
      "['results/Wjets_CNN_dist_v4/evaluation/loglog_eval_150_6', 'results/Wjets_CNN_dist_v4/evaluation/loglog_eval_24_6', 'results/Wjets_CNN_dist_v4/evaluation/loglog_eval_100_6', 'results/Wjets_CNN_dist_v4/evaluation/loglog_eval_200_6', 'results/Wjets_CNN_dist_v4/evaluation/loglog_eval_6_6', 'results/Wjets_CNN_dist_v4/evaluation/loglog_eval_42_6', 'results/Wjets_CNN_dist_v4/evaluation/loglog_eval_12_6', 'results/Wjets_CNN_dist_v4/evaluation/loglog_eval_30_6', 'results/Wjets_CNN_dist_v4/evaluation/loglog_eval_250_6', 'results/Wjets_CNN_dist_v4/evaluation/loglog_eval_38_6', 'results/Wjets_CNN_dist_v4/evaluation/loglog_eval_34_6', 'results/Wjets_CNN_dist_v4/evaluation/loglog_eval_46_6', 'results/Wjets_CNN_dist_v4/evaluation/loglog_eval_18_6', 'results/Wjets_CNN_dist_v4/evaluation/loglog_eval_50_6']\n"
     ]
    }
   ],
   "source": [
    "import glob,csv,ast\n",
    "vallist6_CNN={}\n",
    "testlist6_CNN={}\n",
    "for i in range(1,7):\n",
    "    files=glob.glob('results/Wjets_CNN_dist_v4/evaluation/loglog*_'+str(i))\n",
    "    print(files)\n",
    "    vallist6_CNN[i]=[]\n",
    "    testlist6_CNN[i]=[]\n",
    "    for file in files:\n",
    "        with open(file,'r') as f:\n",
    "            for line in f:\n",
    "                line=line.split(' ')\n",
    "                if(line[0]=='val'):\n",
    "                    vallist6_CNN[i].append(line[2:])\n",
    "                elif(line[0]=='test'):\n",
    "                    testlist6_CNN[i].append(line[2:])\n",
    "    vallist6_CNN[i]=np.array(vallist6_CNN[i]).astype('float')\n",
    "    testlist6_CNN[i]=np.array(testlist6_CNN[i]).astype('float')"
   ]
  },
  {
   "cell_type": "code",
   "execution_count": 25,
   "metadata": {},
   "outputs": [
    {
     "data": {
      "text/plain": [
       "array([  0.,   6.,  12.,  18.,  24.,  30.,  34.,  38.,  42.,  46.,  50.,\n",
       "       100., 150., 200., 250.])"
      ]
     },
     "execution_count": 25,
     "metadata": {},
     "output_type": "execute_result"
    }
   ],
   "source": [
    "discoparlist_CNN=np.unique(vallist_CNN[:,0])\n",
    "discoparlist_CNN"
   ]
  },
  {
   "cell_type": "code",
   "execution_count": 27,
   "metadata": {},
   "outputs": [
    {
     "name": "stdout",
     "output_type": "stream",
     "text": [
      "0.0\n",
      "6.0\n",
      "12.0\n",
      "18.0\n",
      "24.0\n",
      "30.0\n",
      "34.0\n",
      "38.0\n",
      "42.0\n",
      "46.0\n",
      "50.0\n",
      "bad run  50.0 3\n",
      "100.0\n",
      "bad run  100.0 3\n",
      "150.0\n",
      "bad run  150.0 2\n",
      "200.0\n",
      "bad run  200.0 3\n",
      "bad run  200.0 6\n",
      "250.0\n"
     ]
    }
   ],
   "source": [
    "valloss_use6_CNN={}\n",
    "#valloss_use6_smoothed={}\n",
    "toplottry6_CNN={}\n",
    "for i in range(1,7):\n",
    "    for par in discoparlist_CNN:\n",
    "        valloss_s=vallist6_CNN[i][vallist6_CNN[i][:,1]==par][:,3]\n",
    "        valloss_b=vallist6_CNN[i][vallist6_CNN[i][:,1]==par][:,4]\n",
    "        valloss_d=vallist6_CNN[i][vallist6_CNN[i][:,1]==par][:,5]\n",
    "        valloss_use6_CNN[i,par]=valloss_s+valloss_b+valloss_d\n",
    "\n",
    "stdlist={}\n",
    "meanlist={}\n",
    "cutlist={}\n",
    "for par in discoparlist_CNN:\n",
    "    print(par)\n",
    "    minlisttest=[np.min(valloss_use6_CNN[i,par]) for i in range(1,7) if len(valloss_use6_CNN[i,par])>10]\n",
    "    for i in range(1,7):\n",
    "        cutlist[i,par]=True\n",
    "    if(len(minlisttest)>3):\n",
    "        stdlist[par]=np.array([np.std(np.sort(minlisttest)[:i]) for i in range(2,len(minlisttest)+1)])\n",
    "        meanlist[par]=np.array([np.mean(np.sort(minlisttest)[:i]) for i in range(2,len(minlisttest)+1)])\n",
    "        threshold=5*stdlist[par][2]+meanlist[par][2]\n",
    "        for i in range(1,7):\n",
    "            if len(valloss_use6_CNN[i,par])>10 and np.min(valloss_use6_CNN[i,par])<threshold:\n",
    "                cutlist[i,par]=False        \n",
    "            else:\n",
    "                print(\"bad run \",par,i)\n",
    "\n",
    "\n",
    "\n",
    "for i in range(1,7):\n",
    "    toplottry6_CNN[i]=np.array([[i,par,np.argmin(valloss_use6_CNN[i,par])\\\n",
    "        ,testlist6_CNN[i][testlist6_CNN[i][:,1]==par][np.argmin(valloss_use6_CNN[i,par]),-2]\\\n",
    "        ,testlist6_CNN[i][testlist6_CNN[i][:,1]==par][np.argmin(valloss_use6_CNN[i,par]),-1]]\n",
    "     for par in discoparlist_CNN if (len(valloss_use6_CNN[i,par])>10 and cutlist[i,par]==False)])\n"
   ]
  },
  {
   "cell_type": "code",
   "execution_count": 53,
   "metadata": {},
   "outputs": [],
   "source": [
    "toplottry6_CNN_all=np.concatenate((toplottry6_CNN[1],toplottry6_CNN[2],toplottry6_CNN[3],\n",
    "                               toplottry6_CNN[4],toplottry6_CNN[5],toplottry6_CNN[6]))\n",
    "\n",
    "CNNpoint=np.argmax(testlist_CNN[(testlist_CNN[:,0]==0.)][:,-2])\n",
    "\n",
    "\n",
    "toplottry6_CNN_all=np.concatenate((toplottry6_CNN_all[:,1:],\n",
    "                                   testlist_CNN[testlist_CNN[:,0]==0][CNNpoint][[0,1,-2,-1]].reshape((1,-1)),\n",
    "                                   1.01*testlist_CNN[testlist_CNN[:,0]==0][CNNpoint][[0,1,-2,-1]].reshape((1,-1))\n",
    "                                 ))\n",
    "\n",
    "points_CNN=toplottry6_CNN_all[:,[-2,-1]]\n",
    "points_CNN=points_CNN[points_CNN[:,0]>3]\n",
    "#points_CNN=np.dstack((points_CNN[:,0],np.log(points_CNN[:,1])))[0]\n",
    "#points_CNN=np.concatenate((points_CNN,np.array([[13.,100.],[13.,110.],[14.,70.],[14.,80.]])))\n",
    "\n",
    "\n"
   ]
  },
  {
   "cell_type": "code",
   "execution_count": 54,
   "metadata": {},
   "outputs": [
    {
     "data": {
      "text/plain": [
       "<matplotlib.legend.Legend at 0x7ff84688a2b0>"
      ]
     },
     "execution_count": 54,
     "metadata": {},
     "output_type": "execute_result"
    },
    {
     "data": {
      "image/png": "[encoded data removed]",
      "text/plain": [
       "<Figure size 504x504 with 1 Axes>"
      ]
     },
     "metadata": {
      "needs_background": "light"
     },
     "output_type": "display_data"
    }
   ],
   "source": [
    "from matplotlib.collections import LineCollection\n",
    "plt.figure(figsize=(7,7)) \n",
    "concave_hull_CNN, edge_points_CNN = alpha_shape_logy(points_CNN,alpha=0.08)\n",
    "#_ = plot_polygon(concave_hull)\n",
    "patch_CNN = PolygonPatch(concave_hull_CNN.buffer(0.2), fc='green',\n",
    "                         ec='green', fill=True,\n",
    "                         zorder=-1,alpha=0.5)\n",
    "plt.gca().add_patch(patch_CNN)\n",
    "plt.scatter(points_CNN[:,0], points_CNN[:,1],s=5,color='green',label='CNN')\n",
    "concave_hull, edge_points = alpha_shape_logy(points,alpha=0.08)\n",
    "patch = PolygonPatch(concave_hull.buffer(0.2), fc='red',\n",
    "                         ec='red', fill=True,\n",
    "                         zorder=-1,alpha=0.5)\n",
    "plt.gca().add_patch(patch)\n",
    "plt.scatter(points[:,0], points[:,1],s=5,color='r',label='DNN')\n",
    "\n",
    "#plt.scatter(gregorpoints[:,1],gregorpoints[:,2],label='CNN adv')\n",
    "\n",
    "\n",
    "#plt.scatter(vallist[vallist[:,1]>50][:,-2],vallist[vallist[:,1]>50][:,-1],s=1,label='val')\n",
    "#plt.scatter(testlist[testlist[:,1]>50][:,-2],testlist[testlist[:,1]>50][:,-1],s=1,label='test')\n",
    "plt.yscale('log')\n",
    "plt.xscale('log')\n",
    "plt.xlabel('R50')\n",
    "plt.ylabel('1/JSD50')\n",
    "plt.title('Wjets')\n",
    "plt.xlim(1,100)\n",
    "plt.ylim(1,100000)\n",
    "plt.grid(b=True,which='both')\n",
    "plt.legend()\n"
   ]
  },
  {
   "cell_type": "code",
   "execution_count": 32,
   "metadata": {},
   "outputs": [],
   "source": [
    "#adversary=np.array([\n",
    "#[8.844853607002717, 420.8873012065613],\n",
    "#[9.32919452403693, 330.2296799050306],\n",
    "#[9.626478318002627, 350.9210582127037],\n",
    "#[10.856984068173398, 190.48841910437721],\n",
    "#[12.908810572687225, 92.62551195363297],\n",
    "#[16.352120535714285, 20.88473011846998],\n",
    "#[21.218682114409848, 3.6750258876927324]])\n",
    "\n",
    "adversary=np.array([\n",
    "    [21.877486077963404, 3.60308677399872],\n",
    "  [17.318548840556893, 21.270826229067804],\n",
    " [14.149989892864362, 52.196972051459326],\n",
    " [10.014827146684702, 170.14777111245198],\n",
    " [8.197070345767331, 258.5734421889317],\n",
    " [8.140395390633259, 360.5116084345299]\n",
    "])"
   ]
  },
  {
   "cell_type": "code",
   "execution_count": 33,
   "metadata": {},
   "outputs": [],
   "source": [
    "#CNNadversary=np.array([[29.30188679245283, 2.6628074280714755],\n",
    "# [23.490756302521007, 8.565238882442024],\n",
    "# [16.9623786407767, 40.40437543972767],\n",
    "#[13.669437652811736, 167.9435401783712],\n",
    "# [12.99581589958159, 159.05534843030844],\n",
    "# [12.007731958762887, 229.2149880257887],\n",
    "# [10.966653589642997, 307.82019932987674]]\n",
    "#)\n",
    "CNNadversary=np.array([[29.579644475426978, 2.912924238679124],[24.63555139825178, 7.825780412021321],\n",
    "[17.230491573984253, 42.41332518194903],\n",
    "[13.787068125203076, 205.80890960906024],\n",
    "[11.367067508036671, 255.0033026363734],\n",
    "[9.509281739065477, 662.8442832473979],\n",
    "[8.975568482284505, 1390.0030929325326]]\n",
    "                        )\n",
    "\n"
   ]
  },
  {
   "cell_type": "code",
   "execution_count": 34,
   "metadata": {},
   "outputs": [
    {
     "name": "stdout",
     "output_type": "stream",
     "text": [
      "1.1542214776133497 21.88764343039066\n"
     ]
    }
   ],
   "source": [
    "minR50=np.min(vallist[:,-2])\n",
    "maxR50=np.max(vallist[:,-2])\n",
    "nR50bins=8\n",
    "R50binwidth=(maxR50-minR50)/nR50bins\n",
    "print(minR50,maxR50)"
   ]
  },
  {
   "cell_type": "code",
   "execution_count": 35,
   "metadata": {},
   "outputs": [
    {
     "name": "stdout",
     "output_type": "stream",
     "text": [
      "1.428021238570421 29.474812433011788\n"
     ]
    }
   ],
   "source": [
    "minR50_CNN=np.min(vallist_CNN[:,-2])\n",
    "maxR50_CNN=np.max(vallist_CNN[:,-2])\n",
    "nR50bins_CNN=20\n",
    "R50binwidth_CNN=(maxR50_CNN-minR50_CNN)/nR50bins_CNN\n",
    "print(minR50_CNN,maxR50_CNN)"
   ]
  },
  {
   "cell_type": "code",
   "execution_count": 36,
   "metadata": {},
   "outputs": [
    {
     "name": "stdout",
     "output_type": "stream",
     "text": [
      "['plane_Wjets_DNN_plane/evaluation/loglog_Wjets_DNN_plane']\n",
      "['plane_Wjets_CNN_plane/evaluation/loglog_Wjets_CNN_plane']\n"
     ]
    }
   ],
   "source": [
    "# ADDING CODE FOR PLANING POINTS DS\n",
    "import glob,csv,ast\n",
    "state_dist={}\n",
    "files=glob.glob('plane_Wjets_DNN_plane/evaluation/loglog*')\n",
    "print(files)\n",
    "vallist_plane=[]\n",
    "testlist_plane=[]\n",
    "for file in files:\n",
    "    with open(file,'r') as f:\n",
    "        for line in f:\n",
    "            line=line.split(' ')\n",
    "            if(line[0]=='val'):\n",
    "                vallist_plane.append(line[2:])\n",
    "            elif(line[0]=='test'):\n",
    "                testlist_plane.append(line[2:])\n",
    "vallist_plane=np.array(vallist_plane).astype('float')\n",
    "testlist_plane=np.array(testlist_plane).astype('float')\n",
    "\n",
    "import glob,csv,ast\n",
    "state_dist={}\n",
    "files=glob.glob('plane_Wjets_CNN_plane/evaluation/loglog*')\n",
    "print(files)\n",
    "vallist_plane_CNN=[]\n",
    "testlist_plane_CNN=[]\n",
    "for file in files:\n",
    "    with open(file,'r') as f:\n",
    "        for line in f:\n",
    "            line=line.split(' ')\n",
    "            if(line[0]=='val'):\n",
    "                vallist_plane_CNN.append(line[2:])\n",
    "            elif(line[0]=='test'):\n",
    "                testlist_plane_CNN.append(line[2:])\n",
    "vallist_plane_CNN=np.array(vallist_plane_CNN).astype('float')\n",
    "testlist_plane_CNN=np.array(testlist_plane_CNN).astype('float')"
   ]
  },
  {
   "cell_type": "code",
   "execution_count": 25,
   "metadata": {},
   "outputs": [],
   "source": [
    "# GREGOR: YOU WANT TO ADD THESE LINES TO THE MONEYPLOT AND UPDATE THE LEGEND:\n",
    "# plt.scatter([testlist_plane[np.argmax(vallist_plane[:,-1]),-2]],\n",
    "#        [testlist_plane[np.argmax(vallist_plane[:,-1]),-1]],s=50)\n",
    "# plt.scatter([testlist_plane_CNN[np.argmax(vallist_plane_CNN[:,-1]),-2]],\n",
    "#        [testlist_plane_CNN[np.argmax(vallist_plane_CNN[:,-1]),-1]],s=50)\n"
   ]
  },
  {
   "cell_type": "code",
   "execution_count": 62,
   "metadata": {},
   "outputs": [
    {
     "data": {
      "text/plain": [
       "[18.992649597947807,\n",
       " 17.1717847505631,\n",
       " 11.318868701123066,\n",
       " 7.459216491649553,\n",
       " 4.726246010311809,\n",
       " 3.620105218123093,\n",
       " 3.2391729592158676,\n",
       " 3.5410602026222238]"
      ]
     },
     "execution_count": 62,
     "metadata": {},
     "output_type": "execute_result"
    }
   ],
   "source": [
    "[uBpoint[1] for uBpoint in np.array(outputdict['uBoost'])]"
   ]
  },
  {
   "cell_type": "code",
   "execution_count": 102,
   "metadata": {},
   "outputs": [
    {
     "data": {
      "image/png": "[encoded data removed]",
      "text/plain": [
       "<Figure size 576x576 with 1 Axes>"
      ]
     },
     "metadata": {
      "needs_background": "light"
     },
     "output_type": "display_data"
    }
   ],
   "source": [
    "plt.figure(figsize=(8,8)) \n",
    "\n",
    "tau21plot=plt.scatter(outputdict['tau21'][0],outputdict['tau21'][1],label='tau21',color='purple')\n",
    "tau21DDTplot=plt.scatter(outputdict['tau21DDT'][0],outputdict['tau21DDT'][1],label='tau21DDT',color='purple',facecolors='none')\n",
    "plt.plot([outputdict['tau21'][0],outputdict['tau21DDT'][0]],[outputdict['tau21'][1],outputdict['tau21DDT'][1]],color='purple',linestyle='dotted')\n",
    "\n",
    "D2plot=plt.scatter(outputdict['D2'][0],outputdict['D2'][1],label='D2',color='deepskyblue')\n",
    "D2kNNplot=plt.scatter(outputdict['D2kNN'][0],outputdict['D2kNN'][1],label='D2kNN',color='deepskyblue',facecolors='none')\n",
    "plt.plot([outputdict['D2'][0],outputdict['D2kNN'][0]],[outputdict['D2'][1],outputdict['D2kNN'][1]],color='deepskyblue',linestyle='dotted')\n",
    "               \n",
    "BDTtoplotx=uBoost_new[(uBoost_new[:,1]<5) & (uBoost_new[:,0]==300)][:,2]\n",
    "BDTtoploty=uBoost_new[(uBoost_new[:,1]<5) & (uBoost_new[:,0]==300)][:,3]\n",
    "#BDTtoplotx=np.array([uBpoint[1] for uBpoint in np.array(outputdict['uBoost'][:-1])])\n",
    "#BDTtoploty=np.array([uBpoint[2] for uBpoint in np.array(outputdict['uBoost'][:-1])])\n",
    "adaboostplotx=BDTtoplotx[:1]\n",
    "adaboostploty=BDTtoploty[:1]\n",
    "uBoostplotx=BDTtoplotx[1:]\n",
    "uBoostploty=BDTtoploty[1:]\n",
    "uBoostplot, =plt.plot(BDTtoplotx,BDTtoploty,color='red',label='uBoost')\n",
    "uBoostplot2 =plt.scatter(uBoostplotx,uBoostploty,color='red',facecolors='none',label='uBoost')\n",
    "adaboostplot =plt.scatter(adaboostplotx,adaboostploty,label='Adaboost',color='red')\n",
    "\n",
    "\n",
    "DNNpoint=testlist[(testlist[:,0]==0.)&(testlist[:,1]==199)]\n",
    "DNNplot = plt.scatter(DNNpoint[0,-2],DNNpoint[0,-1],label='DNN',color='orange')\n",
    "DNNadvplot, = plt.plot(adversary[:,0],adversary[:,1],label='DNN+adversary',color='orange',linestyle='dashed')\n",
    "\n",
    "CNNpoint=np.argmax(testlist_CNN[(testlist_CNN[:,0]==0.)][:,-2])\n",
    "CNNpoint=np.array([(testlist_CNN[(testlist_CNN[:,0]==0.)])[CNNpoint]])\n",
    "#CNNpoint=testlist_CNN[(testlist_CNN[:,0]==0.)&(testlist_CNN[:,1]==99)]\n",
    "CNNplot = plt.scatter(CNNpoint[0,-2],CNNpoint[0,-1],label='CNN',color='brown')\n",
    "CNNadvplot, = plt.plot(CNNadversary[:,0],CNNadversary[:,1],label='CNN+adversary',color='brown',linestyle='dashed')\n",
    "\n",
    "\n",
    "DNNplaneplot=plt.scatter([testlist_plane[np.argmax(vallist_plane[:,-1]),-2]],\n",
    "        [testlist_plane[np.argmax(vallist_plane[:,-1]),-1]],s=50,facecolor='none',color='orange')\n",
    "CNNplaneplot=plt.scatter([testlist_plane_CNN[np.argmax(vallist_plane_CNN[:,-1]),-2]],\n",
    "                    [testlist_plane_CNN[np.argmax(vallist_plane_CNN[:,-1]),-1]],s=50,facecolor='none',color='brown')\n",
    "\n",
    "\n",
    "concave_hull_CNN, edge_points_CNN = alpha_shape_logy(points_CNN,alpha=0.08)\n",
    "#_ = plot_polygon(concave_hull)\n",
    "patch_CNN = PolygonPatch(concave_hull_CNN.buffer(0.2), fc='brown',\n",
    "                         ec='brown', fill=True,\n",
    "                         zorder=-1,alpha=0.4,label='CNN+distance correlation')\n",
    "plt.gca().add_patch(patch_CNN)\n",
    "concave_hull, edge_points = alpha_shape_logy(points,alpha=0.08)\n",
    "patch = PolygonPatch(concave_hull.buffer(0.2), fc='orange',\n",
    "                         ec='orange', fill=True,\n",
    "                         zorder=-1,alpha=0.4,label='DNN+distance correlation')\n",
    "plt.gca().add_patch(patch)\n",
    "\n",
    "plt.xscale('log')\n",
    "plt.yscale('log')\n",
    "plt.xlim(2,100)\n",
    "plt.ylim(1,150000)\n",
    "#plt.grid(b=True,which='both')\n",
    "plt.xlabel('$R_{50}$', fontsize=24)\n",
    "plt.ylabel('$1/JSD_{50}$', fontsize=24)\n",
    "plt.legend([tau21plot,tau21DDTplot,D2plot,D2kNNplot,adaboostplot,uBoostplot2,DNNplot,DNNplaneplot,DNNadvplot,patch,CNNplot,CNNplaneplot,CNNadvplot,patch_CNN], #,,CNNdistplot],\n",
    "           [r'$\\tau_{21}$',r'$\\tau_{21}$-DDT',\"$D_2$\",\"$D_2$-kNN\",\"Adaboost\",\"uBoost\",\"DNN\",\"DNN+planing\",\"DNN+adversary\",\"DNN+distance correlation\",\"CNN\",\"CNN+planing\",\"CNN+adversary\",\"CNN+distance correlation\"] #,,\"CNN+distance correlation\"]\n",
    "           ,fontsize=12,frameon=False)\n",
    "\n",
    "        \n",
    "plt.tick_params(axis=\"x\", labelsize=18)\n",
    "plt.tick_params(axis=\"y\", labelsize=18)\n",
    "plt.savefig('money_plot.pdf')\n",
    "\n"
   ]
  },
  {
   "cell_type": "markdown",
   "metadata": {},
   "source": [
    "# plot average images"
   ]
  },
  {
   "cell_type": "code",
   "execution_count": 37,
   "metadata": {},
   "outputs": [],
   "source": [
    "files = np.load(\"Data/W_CNN_v1.npz\")\n",
    "train = files[\"train\"]\n",
    "val = files[\"val\"]\n",
    "test = files[\"test\"]"
   ]
  },
  {
   "cell_type": "code",
   "execution_count": 38,
   "metadata": {},
   "outputs": [],
   "source": [
    "y_train = train[:,330]\n",
    "m_train = train[:,331]\n",
    "m_train = m_train*250+50\n",
    "pt_train = train[:,332]\n",
    "train=train[:,:330]\n",
    "\n",
    "y_val = val[:,330]\n",
    "y_test = test[:,330]\n",
    "\n"
   ]
  },
  {
   "cell_type": "code",
   "execution_count": 28,
   "metadata": {},
   "outputs": [],
   "source": [
    "img_rows=40\n",
    "img_cols=40\n",
    "ncolors=1\n",
    "def expand_array(image):\n",
    "\n",
    "    image = image.reshape(110,3)\n",
    "    \n",
    "    expandedimage=np.zeros((img_rows,img_cols,ncolors),dtype='float32')\n",
    "\n",
    "    expandedimage[image[:,0].astype('int'),image[:,1].astype('int')]=image[:,2].reshape((-1,ncolors))\n",
    "    expandedimage=np.transpose(expandedimage,(2,0,1))\n",
    "\n",
    "\n",
    "    return expandedimage\n"
   ]
  },
  {
   "cell_type": "code",
   "execution_count": 143,
   "metadata": {},
   "outputs": [
    {
     "ename": "NameError",
     "evalue": "name 'train_W' is not defined",
     "output_type": "error",
     "traceback": [
      "\u001b[0;31m---------------------------------------------------------------------------\u001b[0m",
      "\u001b[0;31mNameError\u001b[0m                                 Traceback (most recent call last)",
      "\u001b[0;32m<ipython-input-143-d387e6981c8d>\u001b[0m in \u001b[0;36m<module>\u001b[0;34m\u001b[0m\n\u001b[1;32m      1\u001b[0m \u001b[0;31m#len(train[y_train==1])\u001b[0m\u001b[0;34m\u001b[0m\u001b[0;34m\u001b[0m\u001b[0;34m\u001b[0m\u001b[0m\n\u001b[0;32m----> 2\u001b[0;31m \u001b[0mtrain_W\u001b[0m\u001b[0;34m.\u001b[0m\u001b[0mshape\u001b[0m\u001b[0;34m\u001b[0m\u001b[0;34m\u001b[0m\u001b[0m\n\u001b[0m",
      "\u001b[0;31mNameError\u001b[0m: name 'train_W' is not defined"
     ]
    }
   ],
   "source": [
    "#len(train[y_train==1])\n",
    "train_W.shape"
   ]
  },
  {
   "cell_type": "code",
   "execution_count": 29,
   "metadata": {},
   "outputs": [],
   "source": [
    "train_W=np.array([expand_array(im) for im in train[y_train==0][:100000]])\n",
    "train_qcd=np.array([expand_array(im) for im in train[y_train==1][:100000]])\n"
   ]
  },
  {
   "cell_type": "code",
   "execution_count": 39,
   "metadata": {},
   "outputs": [
    {
     "data": {
      "text/plain": [
       "(110000, 330000, 770000)"
      ]
     },
     "execution_count": 39,
     "metadata": {},
     "output_type": "execute_result"
    }
   ],
   "source": [
    "len(train[y_train==1]),len(val[y_val==1]),len(test[y_test==1])"
   ]
  },
  {
   "cell_type": "code",
   "execution_count": 40,
   "metadata": {},
   "outputs": [
    {
     "data": {
      "text/plain": [
       "(250000, 80000, 80000)"
      ]
     },
     "execution_count": 40,
     "metadata": {},
     "output_type": "execute_result"
    }
   ],
   "source": [
    "len(train[y_train==0]),len(val[y_val==0]),len(test[y_test==0])"
   ]
  },
  {
   "cell_type": "code",
   "execution_count": 32,
   "metadata": {},
   "outputs": [
    {
     "data": {
      "text/plain": [
       "Text(0.5, 1.0, 'QCD jets')"
      ]
     },
     "execution_count": 32,
     "metadata": {},
     "output_type": "execute_result"
    },
    {
     "data": {
      "image/png": "[encoded data removed]",
      "text/plain": [
       "<Figure size 720x720 with 2 Axes>"
      ]
     },
     "metadata": {
      "needs_background": "light"
     },
     "output_type": "display_data"
    }
   ],
   "source": [
    "import matplotlib\n",
    "\n",
    "matplotlib.rcParams.update({'font.size': 16})\n",
    "\n",
    "\n",
    "fig=plt.figure()\n",
    "fig.set_figheight(10)\n",
    "fig.set_figwidth(10)\n",
    "\n",
    "\n",
    "a=fig.add_subplot(1, 2,1)\n",
    "a.imshow(np.log(1e-4+np.mean(train_W,axis=0).reshape((40,40))))\n",
    "a.set_title('W jets')\n",
    "a=fig.add_subplot(1, 2,2)\n",
    "a.imshow(np.log(1e-4+np.mean(train_qcd,axis=0).reshape((40,40))))\n",
    "a.set_title('QCD jets')\n",
    "\n",
    "\n"
   ]
  },
  {
   "cell_type": "code",
   "execution_count": 33,
   "metadata": {},
   "outputs": [],
   "source": [
    "fig.savefig('avgimages_Wtagging.pdf',bbox_inches='tight')\n"
   ]
  },
  {
   "cell_type": "markdown",
   "metadata": {},
   "source": [
    "# plot pt and mass for all jets"
   ]
  },
  {
   "cell_type": "code",
   "execution_count": 59,
   "metadata": {},
   "outputs": [],
   "source": [
    "files = np.load(\"/Users/gregor/Desktop/W_FCN_v0.npz\")\n",
    "train = files[\"train\"]\n"
   ]
  },
  {
   "cell_type": "code",
   "execution_count": 60,
   "metadata": {},
   "outputs": [
    {
     "data": {
      "text/plain": [
       "(360000, 12)"
      ]
     },
     "execution_count": 60,
     "metadata": {},
     "output_type": "execute_result"
    }
   ],
   "source": [
    "train.shape"
   ]
  },
  {
   "cell_type": "code",
   "execution_count": 61,
   "metadata": {},
   "outputs": [
    {
     "data": {
      "text/plain": [
       "269.476"
      ]
     },
     "execution_count": 61,
     "metadata": {},
     "output_type": "execute_result"
    }
   ],
   "source": [
    "50+250*np.max(train[:,0])"
   ]
  },
  {
   "cell_type": "code",
   "execution_count": 137,
   "metadata": {},
   "outputs": [
    {
     "data": {
      "image/png": "[encoded data removed]",
      "text/plain": [
       "<Figure size 576x360 with 1 Axes>"
      ]
     },
     "metadata": {
      "needs_background": "light"
     },
     "output_type": "display_data"
    }
   ],
   "source": [
    "fig=plt.figure(figsize=(8,5))\n",
    "_,_,_=plt.hist(50+250*train[:,0][train[:,-1]==1],bins=100,normed=True,histtype='step',label='QCD',color='blue')\n",
    "_,_,_=plt.hist(50+250*train[:,0][train[:,-1]==0],bins=100,normed=True,histtype='step',label='W',color='black')\n",
    "plt.xlabel('mass [GeV]',fontsize=18)\n",
    "plt.ylabel('normalized counts',fontsize=18)\n",
    "plt.yscale('log')\n",
    "plt.tick_params(axis=\"x\", labelsize=18)\n",
    "plt.tick_params(axis=\"y\", labelsize=18)\n",
    "plt.xlim(45,270)\n",
    "plt.text(200,0.00033,\"QCD\",fontsize=18,color='blue')\n",
    "plt.text(90,0.02,\"W\",fontsize=18,color='black')\n",
    "fig.savefig('mass.pdf',bbox_inches='tight')\n"
   ]
  },
  {
   "cell_type": "code",
   "execution_count": 129,
   "metadata": {},
   "outputs": [
    {
     "data": {
      "image/png": "[encoded data removed]",
      "text/plain": [
       "<Figure size 360x360 with 1 Axes>"
      ]
     },
     "metadata": {
      "needs_background": "light"
     },
     "output_type": "display_data"
    }
   ],
   "source": [
    "fig=plt.figure(figsize=(5,5))\n",
    "_,_,_=plt.hist(train[:,1][train[:,-1]==1],bins=25,normed=True,alpha=0.5,label='QCD')\n",
    "_,_,_=plt.hist(train[:,1][train[:,-1]==0],bins=25,normed=True,alpha=0.5,label='W')\n",
    "plt.xlabel('$pT$ [GeV]',fontsize=12)\n",
    "plt.ylabel('normalized counts',fontsize=12)\n",
    "plt.yscale('log')\n",
    "plt.legend()\n",
    "fig.savefig('pT.pdf',bbox_inches='tight')\n"
   ]
  },
  {
   "cell_type": "markdown",
   "metadata": {},
   "source": [
    "# plot mass before and after cut on classifier"
   ]
  },
  {
   "cell_type": "code",
   "execution_count": 64,
   "metadata": {},
   "outputs": [
    {
     "data": {
      "text/plain": [
       "array([[3.00000000e+02, 1.27000000e+02, 1.15360346e+00, 1.14505618e-01,\n",
       "        3.60410962e+00, 7.96281336e+03],\n",
       "       [3.00000000e+02, 1.34000000e+02, 1.16093214e+00, 1.07987177e-01,\n",
       "        3.86048121e+00, 3.56113324e+03],\n",
       "       [1.00000000e+02, 7.00000000e+01, 9.63494560e-01, 3.48659169e-02,\n",
       "        8.07432574e+00, 1.55355094e+03],\n",
       "       [1.00000000e+02, 1.23000000e+02, 9.49454058e-01, 3.45305260e-02,\n",
       "        9.31368991e+00, 1.56606958e+03],\n",
       "       [3.00000000e+01, 1.70000000e+02, 8.64042607e-01, 1.66366982e-02,\n",
       "        1.14433480e+01, 1.31651180e+02],\n",
       "       [2.00000000e+01, 1.37000000e+02, 8.19726789e-01, 2.20717787e-02,\n",
       "        1.43194540e+01, 2.87799671e+01],\n",
       "       [1.00000000e+01, 1.91000000e+02, 7.86610434e-01, 1.66239372e-02,\n",
       "        1.69670795e+01, 1.47594325e+01],\n",
       "       [0.00000000e+00, 1.72000000e+02, 7.18872117e-01, 0.00000000e+00,\n",
       "        2.19956009e+01, 3.86044409e+00]])"
      ]
     },
     "execution_count": 64,
     "metadata": {},
     "output_type": "execute_result"
    }
   ],
   "source": [
    "besttest"
   ]
  },
  {
   "cell_type": "code",
   "execution_count": 65,
   "metadata": {},
   "outputs": [
    {
     "data": {
      "text/plain": [
       "array([1.00000000e+02, 1.23000000e+02, 9.49454058e-01, 3.45305260e-02,\n",
       "       9.31368991e+00, 1.56606958e+03])"
      ]
     },
     "execution_count": 65,
     "metadata": {},
     "output_type": "execute_result"
    }
   ],
   "source": [
    "besttest[3]"
   ]
  },
  {
   "cell_type": "code",
   "execution_count": 66,
   "metadata": {},
   "outputs": [
    {
     "data": {
      "text/plain": [
       "array([[ 21.87748608,   3.60308677],\n",
       "       [ 17.31854884,  21.27082623],\n",
       "       [ 14.14998989,  52.19697205],\n",
       "       [ 10.01482715, 170.14777111],\n",
       "       [  8.19707035, 258.57344219],\n",
       "       [  8.14039539, 360.51160843]])"
      ]
     },
     "execution_count": 66,
     "metadata": {},
     "output_type": "execute_result"
    }
   ],
   "source": [
    "adversary"
   ]
  },
  {
   "cell_type": "code",
   "execution_count": 67,
   "metadata": {
    "collapsed": true
   },
   "outputs": [
    {
     "data": {
      "text/plain": [
       "array([[2.50000000e+02, 5.20000000e+01, 1.31737002e+00, 2.47365007e-01,\n",
       "        2.66757202e+00, 4.37728822e+03],\n",
       "       [1.50000000e+02, 6.50000000e+01, 1.09177131e+00, 1.88544801e-01,\n",
       "        3.55753504e+00, 7.78045436e+03],\n",
       "       [1.50000000e+02, 7.40000000e+01, 1.17219425e+00, 1.57685682e-01,\n",
       "        5.12994757e+00, 6.24370944e+03],\n",
       "       [1.50000000e+02, 9.90000000e+01, 1.14517124e+00, 1.51660252e-01,\n",
       "        6.37169313e+00, 5.99057431e+03],\n",
       "       [1.00000000e+02, 8.50000000e+01, 1.04737528e+00, 1.13770149e-01,\n",
       "        8.26233449e+00, 2.67959978e+03],\n",
       "       [5.00000000e+01, 7.60000000e+01, 7.88593860e-01, 6.19944655e-02,\n",
       "        9.19534739e+00, 7.15200632e+02],\n",
       "       [4.20000000e+01, 8.30000000e+01, 8.29792178e-01, 4.86843118e-02,\n",
       "        1.03933267e+01, 4.63850438e+02],\n",
       "       [3.80000000e+01, 9.50000000e+01, 7.56072881e-01, 4.70515098e-02,\n",
       "        1.13912066e+01, 3.01600993e+02],\n",
       "       [2.40000000e+01, 6.40000000e+01, 6.20849635e-01, 3.27703076e-02,\n",
       "        1.27272727e+01, 1.40815823e+02],\n",
       "       [2.40000000e+01, 7.70000000e+01, 7.56414739e-01, 3.92494143e-02,\n",
       "        1.42095259e+01, 7.33923166e+01],\n",
       "       [2.40000000e+01, 9.70000000e+01, 7.86957355e-01, 3.73727646e-02,\n",
       "        1.59711275e+01, 4.05432739e+01],\n",
       "       [1.80000000e+01, 9.00000000e+01, 7.15137703e-01, 3.26567330e-02,\n",
       "        1.76605505e+01, 2.51218391e+01],\n",
       "       [1.80000000e+01, 7.30000000e+01, 8.19039007e-01, 3.21919200e-02,\n",
       "        1.86359456e+01, 1.62881640e+01],\n",
       "       [1.80000000e+01, 9.40000000e+01, 7.53289214e-01, 2.98227617e-02,\n",
       "        1.99994805e+01, 1.17475012e+01],\n",
       "       [1.20000000e+01, 9.80000000e+01, 7.02291389e-01, 3.37964049e-02,\n",
       "        2.12801238e+01, 9.88557061e+00],\n",
       "       [0.00000000e+00, 9.60000000e+01, 5.27899561e-01, 0.00000000e+00,\n",
       "        2.72306115e+01, 3.38210443e+00],\n",
       "       [0.00000000e+00, 9.90000000e+01, 5.52602976e-01, 0.00000000e+00,\n",
       "        2.73301626e+01, 3.54066416e+00],\n",
       "       [0.00000000e+00, 7.50000000e+01, 5.79070437e-01, 0.00000000e+00,\n",
       "        2.91887794e+01, 3.22484030e+00]])"
      ]
     },
     "execution_count": 67,
     "metadata": {},
     "output_type": "execute_result"
    }
   ],
   "source": [
    "besttest_CNN"
   ]
  },
  {
   "cell_type": "code",
   "execution_count": 69,
   "metadata": {},
   "outputs": [],
   "source": [
    "Wout=np.loadtxt('Wout_Wjets_DNN_100.0_123.csv',delimiter=',')\n",
    "qcdout=np.loadtxt('qcdout_Wjets_DNN_100.0_123.csv',delimiter=',')\n",
    "qcdmass=np.loadtxt('qcdmass_Wjets_DNN_100.0_123.csv',delimiter=',')"
   ]
  },
  {
   "cell_type": "code",
   "execution_count": 70,
   "metadata": {},
   "outputs": [],
   "source": [
    "cutval=np.percentile(Wout,50)"
   ]
  },
  {
   "cell_type": "code",
   "execution_count": 71,
   "metadata": {},
   "outputs": [
    {
     "data": {
      "text/plain": [
       "9.31357726035682"
      ]
     },
     "execution_count": 71,
     "metadata": {},
     "output_type": "execute_result"
    }
   ],
   "source": [
    "len(qcdout)/len(qcdout[qcdout>cutval])"
   ]
  },
  {
   "cell_type": "code",
   "execution_count": 75,
   "metadata": {},
   "outputs": [
    {
     "data": {
      "image/png": "[encoded data removed]",
      "text/plain": [
       "<Figure size 432x288 with 1 Axes>"
      ]
     },
     "metadata": {
      "needs_background": "light"
     },
     "output_type": "display_data"
    }
   ],
   "source": [
    "fig=plt.figure()\n",
    "plt.hist(qcdmass,bins=25,range=[50,250],normed=True,alpha=0.5,label='before cut')\n",
    "plt.hist(qcdmass[qcdout>cutval],bins=25,range=[50,250],normed=True,alpha=0.5,label='after cut')\n",
    "plt.xlabel('mass [GeV]')\n",
    "plt.ylabel('normalized counts')\n",
    "plt.legend()\n",
    "plt.yscale('log')\n",
    "fig.savefig('mass_comparison_DNN+DisCo.pdf',bbox_inches='tight')\n"
   ]
  },
  {
   "cell_type": "code",
   "execution_count": 144,
   "metadata": {},
   "outputs": [],
   "source": [
    "Wout_CNN=np.loadtxt('Wout_Wjets_CNN_50.0_76.csv',delimiter=',')\n",
    "qcdout_CNN=np.loadtxt('qcdout_Wjets_CNN_50.0_76.csv',delimiter=',')\n",
    "qcdmass_CNN=np.loadtxt('qcdmass_Wjets_CNN_50.0_76.csv',delimiter=',')\n",
    "\n",
    "\n",
    "Wout_CNN_0=np.loadtxt('Wout_Wjets_CNN_0.0_99.csv',delimiter=',')\n",
    "qcdout_CNN_0=np.loadtxt('qcdout_Wjets_CNN_0.0_99.csv',delimiter=',')\n",
    "qcdmass_CNN_0=np.loadtxt('qcdmass_Wjets_CNN_0.0_99.csv',delimiter=',')"
   ]
  },
  {
   "cell_type": "code",
   "execution_count": 145,
   "metadata": {},
   "outputs": [],
   "source": [
    "cutval_CNN=np.percentile(Wout_CNN,50)\n",
    "cutval_CNN_0=np.percentile(Wout_CNN_0,50)"
   ]
  },
  {
   "cell_type": "code",
   "execution_count": 78,
   "metadata": {},
   "outputs": [
    {
     "data": {
      "text/plain": [
       "9.195347393059304"
      ]
     },
     "execution_count": 78,
     "metadata": {},
     "output_type": "execute_result"
    }
   ],
   "source": [
    "len(qcdout_CNN)/len(qcdout_CNN[qcdout_CNN>cutval_CNN])"
   ]
  },
  {
   "cell_type": "code",
   "execution_count": 154,
   "metadata": {},
   "outputs": [
    {
     "data": {
      "image/png": "[encoded data removed]",
      "text/plain": [
       "<Figure size 576x360 with 1 Axes>"
      ]
     },
     "metadata": {
      "needs_background": "light"
     },
     "output_type": "display_data"
    }
   ],
   "source": [
    "fig=plt.figure(figsize=(8,5))\n",
    "plt.hist(qcdmass_CNN,bins=25,range=[50,250],normed=True,histtype='step',label='before cut',color='blue')\n",
    "plt.hist(qcdmass_CNN[qcdout_CNN>cutval_CNN],bins=25,range=[50,250],normed=True,histtype='step',label='after cut',color='black')\n",
    "plt.hist(qcdmass_CNN_0[qcdout_CNN_0>cutval_CNN_0],bins=25,range=[50,250],normed=True,histtype='step',label='after cut',color='red',linestyle='dashed')\n",
    "plt.xlabel('mass [GeV]',fontsize=18)\n",
    "plt.ylabel('normalized counts',fontsize=18)\n",
    "#plt.legend(frameon=False,fontsize=12)\n",
    "plt.text(205,0.0003,\"before cut\",fontsize=18,color='blue')\n",
    "plt.text(70,0.0005,\"after cut, no decor.\",fontsize=18,color='red')\n",
    "plt.text(154,0.000015,\"after cut, DisCo\",fontsize=18,color='black')\n",
    "plt.tick_params(axis=\"x\", labelsize=18)\n",
    "plt.tick_params(axis=\"y\", labelsize=18)\n",
    "plt.yscale('log')\n",
    "fig.savefig('mass_comparison_CNN+DisCo.pdf',bbox_inches='tight')\n"
   ]
  },
  {
   "cell_type": "code",
   "execution_count": null,
   "metadata": {},
   "outputs": [],
   "source": []
  }
 ],
 "metadata": {
  "kernelspec": {
   "display_name": "Python 3",
   "language": "python",
   "name": "python3"
  },
  "language_info": {
   "codemirror_mode": {
    "name": "ipython",
    "version": 3
   },
   "file_extension": ".py",
   "mimetype": "text/x-python",
   "name": "python",
   "nbconvert_exporter": "python",
   "pygments_lexer": "ipython3",
   "version": "3.7.3"
  }
 },
 "nbformat": 4,
 "nbformat_minor": 2
}
